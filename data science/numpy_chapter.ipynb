{
 "cells": [
  {
   "cell_type": "code",
   "execution_count": 1,
   "metadata": {},
   "outputs": [],
   "source": [
    "import numpy as np"
   ]
  },
  {
   "cell_type": "code",
   "execution_count": 3,
   "metadata": {},
   "outputs": [
    {
     "name": "stdout",
     "output_type": "stream",
     "text": [
      "[1 2 3 4 5]\n",
      "<class 'numpy.ndarray'>\n"
     ]
    }
   ],
   "source": [
    "#creation of numpy array\n",
    "x=np.array([1,2,3,4,5])\n",
    "print(x)\n",
    "print(type(x))   #ndarray"
   ]
  },
  {
   "cell_type": "code",
   "execution_count": 4,
   "metadata": {},
   "outputs": [
    {
     "name": "stdout",
     "output_type": "stream",
     "text": [
      "5\n",
      "(5,)\n",
      "1\n"
     ]
    }
   ],
   "source": [
    "#shape an size\n",
    "print(x.size)   #total no. of elements\n",
    "print(x.shape)\n",
    "print(x.ndim)"
   ]
  },
  {
   "cell_type": "code",
   "execution_count": 7,
   "metadata": {},
   "outputs": [
    {
     "name": "stdout",
     "output_type": "stream",
     "text": [
      "[[1 2 3]\n",
      " [4 5 6]]\n",
      "6\n",
      "(2, 3)\n",
      "2\n"
     ]
    }
   ],
   "source": [
    "x2d=np.array([[1,2,3],[4,5,6]])\n",
    "print(x2d)\n",
    "#shape and size\n",
    "print(x2d.size)\n",
    "print(x2d.shape)\n",
    "print(x2d.ndim)"
   ]
  },
  {
   "cell_type": "code",
   "execution_count": 11,
   "metadata": {},
   "outputs": [
    {
     "name": "stdout",
     "output_type": "stream",
     "text": [
      "[[82 15  7 69 20]\n",
      " [50  8 74 81 25]\n",
      " [85 61  4 64  2]\n",
      " [21 30 65 71 34]\n",
      " [19 40 91 97 89]]\n"
     ]
    }
   ],
   "source": [
    "x25=np.random.randint(1,100,(5,5))\n",
    "print(x25)"
   ]
  },
  {
   "cell_type": "code",
   "execution_count": 16,
   "metadata": {},
   "outputs": [
    {
     "name": "stdout",
     "output_type": "stream",
     "text": [
      "25 elements\n",
      "=>1d matrix\n",
      "[ 1  5  9 13 17 21 25 29 33 37 41 45 49 53 57 61 65 69 73 77 81 85 89 93\n",
      " 97]\n",
      "=>1d matrix reshaped to 2d \n",
      "[[ 1  5  9 13 17]\n",
      " [21 25 29 33 37]\n",
      " [41 45 49 53 57]\n",
      " [61 65 69 73 77]\n",
      " [81 85 89 93 97]]\n"
     ]
    }
   ],
   "source": [
    "xseq1=np.arange(1,101,4)\n",
    "\n",
    "print(xseq1.size,\"elements\")\n",
    "print(\"=>1d matrix\")\n",
    "print(xseq1)\n",
    "print(\"=>1d matrix reshaped to 2d \")\n",
    "\n",
    "print(xseq1.reshape(5,5))"
   ]
  },
  {
   "cell_type": "code",
   "execution_count": 18,
   "metadata": {},
   "outputs": [
    {
     "name": "stdout",
     "output_type": "stream",
     "text": [
      "50 elements\n",
      "=>1d matrix\n",
      "[  1.           3.02040816   5.04081633   7.06122449   9.08163265\n",
      "  11.10204082  13.12244898  15.14285714  17.16326531  19.18367347\n",
      "  21.20408163  23.2244898   25.24489796  27.26530612  29.28571429\n",
      "  31.30612245  33.32653061  35.34693878  37.36734694  39.3877551\n",
      "  41.40816327  43.42857143  45.44897959  47.46938776  49.48979592\n",
      "  51.51020408  53.53061224  55.55102041  57.57142857  59.59183673\n",
      "  61.6122449   63.63265306  65.65306122  67.67346939  69.69387755\n",
      "  71.71428571  73.73469388  75.75510204  77.7755102   79.79591837\n",
      "  81.81632653  83.83673469  85.85714286  87.87755102  89.89795918\n",
      "  91.91836735  93.93877551  95.95918367  97.97959184 100.        ]\n",
      "=>1d matrix reshaped to 2d \n",
      "[[  1.           3.02040816   5.04081633   7.06122449   9.08163265]\n",
      " [ 11.10204082  13.12244898  15.14285714  17.16326531  19.18367347]\n",
      " [ 21.20408163  23.2244898   25.24489796  27.26530612  29.28571429]\n",
      " [ 31.30612245  33.32653061  35.34693878  37.36734694  39.3877551 ]\n",
      " [ 41.40816327  43.42857143  45.44897959  47.46938776  49.48979592]\n",
      " [ 51.51020408  53.53061224  55.55102041  57.57142857  59.59183673]\n",
      " [ 61.6122449   63.63265306  65.65306122  67.67346939  69.69387755]\n",
      " [ 71.71428571  73.73469388  75.75510204  77.7755102   79.79591837]\n",
      " [ 81.81632653  83.83673469  85.85714286  87.87755102  89.89795918]\n",
      " [ 91.91836735  93.93877551  95.95918367  97.97959184 100.        ]]\n",
      "=. 1d matrix reshaped to 3d\n",
      "[[[  1.           3.02040816]\n",
      "  [  5.04081633   7.06122449]\n",
      "  [  9.08163265  11.10204082]\n",
      "  [ 13.12244898  15.14285714]\n",
      "  [ 17.16326531  19.18367347]]\n",
      "\n",
      " [[ 21.20408163  23.2244898 ]\n",
      "  [ 25.24489796  27.26530612]\n",
      "  [ 29.28571429  31.30612245]\n",
      "  [ 33.32653061  35.34693878]\n",
      "  [ 37.36734694  39.3877551 ]]\n",
      "\n",
      " [[ 41.40816327  43.42857143]\n",
      "  [ 45.44897959  47.46938776]\n",
      "  [ 49.48979592  51.51020408]\n",
      "  [ 53.53061224  55.55102041]\n",
      "  [ 57.57142857  59.59183673]]\n",
      "\n",
      " [[ 61.6122449   63.63265306]\n",
      "  [ 65.65306122  67.67346939]\n",
      "  [ 69.69387755  71.71428571]\n",
      "  [ 73.73469388  75.75510204]\n",
      "  [ 77.7755102   79.79591837]]\n",
      "\n",
      " [[ 81.81632653  83.83673469]\n",
      "  [ 85.85714286  87.87755102]\n",
      "  [ 89.89795918  91.91836735]\n",
      "  [ 93.93877551  95.95918367]\n",
      "  [ 97.97959184 100.        ]]]\n"
     ]
    }
   ],
   "source": [
    "xseq2=np.linspace(1,100,50)\n",
    "\n",
    "print(xseq2.size,\"elements\")\n",
    "print(\"=>1d matrix\")\n",
    "print(xseq2)\n",
    "print(\"=>1d matrix reshaped to 2d \")\n",
    "\n",
    "print(xseq2.reshape(10,5))\n",
    "print(\"=. 1d matrix reshaped to 3d\")\n",
    "print(xseq2.reshape(5,5,2))"
   ]
  },
  {
   "cell_type": "code",
   "execution_count": 19,
   "metadata": {},
   "outputs": [
    {
     "name": "stdout",
     "output_type": "stream",
     "text": [
      "[[  1.           3.02040816   5.04081633   7.06122449   9.08163265]\n",
      " [ 11.10204082  13.12244898  15.14285714  17.16326531  19.18367347]\n",
      " [ 21.20408163  23.2244898   25.24489796  27.26530612  29.28571429]\n",
      " [ 31.30612245  33.32653061  35.34693878  37.36734694  39.3877551 ]\n",
      " [ 41.40816327  43.42857143  45.44897959  47.46938776  49.48979592]\n",
      " [ 51.51020408  53.53061224  55.55102041  57.57142857  59.59183673]\n",
      " [ 61.6122449   63.63265306  65.65306122  67.67346939  69.69387755]\n",
      " [ 71.71428571  73.73469388  75.75510204  77.7755102   79.79591837]\n",
      " [ 81.81632653  83.83673469  85.85714286  87.87755102  89.89795918]\n",
      " [ 91.91836735  93.93877551  95.95918367  97.97959184 100.        ]]\n"
     ]
    }
   ],
   "source": [
    "xseq2d=xseq2.reshape(10,5)\n",
    "print(xseq2d)"
   ]
  },
  {
   "cell_type": "code",
   "execution_count": 22,
   "metadata": {},
   "outputs": [
    {
     "data": {
      "text/plain": [
       "array([[1, 1, 1, 1, 1],\n",
       "       [1, 1, 1, 1, 1],\n",
       "       [1, 1, 1, 1, 1],\n",
       "       [1, 1, 1, 1, 1],\n",
       "       [1, 1, 1, 1, 1]])"
      ]
     },
     "execution_count": 22,
     "metadata": {},
     "output_type": "execute_result"
    }
   ],
   "source": [
    "np.ones((5,5),dtype='int')"
   ]
  },
  {
   "cell_type": "markdown",
   "metadata": {},
   "source": []
  },
  {
   "cell_type": "code",
   "execution_count": 23,
   "metadata": {},
   "outputs": [
    {
     "data": {
      "text/plain": [
       "array([[82, 15,  7, 69, 20],\n",
       "       [50,  8, 74, 81, 25],\n",
       "       [85, 61,  4, 64,  2],\n",
       "       [21, 30, 65, 71, 34],\n",
       "       [19, 40, 91, 97, 89]])"
      ]
     },
     "execution_count": 23,
     "metadata": {},
     "output_type": "execute_result"
    }
   ],
   "source": [
    "x25"
   ]
  },
  {
   "cell_type": "code",
   "execution_count": 25,
   "metadata": {},
   "outputs": [
    {
     "name": "stdout",
     "output_type": "stream",
     "text": [
      "[82 15  7 69 20]\n"
     ]
    }
   ],
   "source": [
    "#first row\n",
    "print(x25[0]) "
   ]
  },
  {
   "cell_type": "code",
   "execution_count": 26,
   "metadata": {},
   "outputs": [
    {
     "name": "stdout",
     "output_type": "stream",
     "text": [
      "[19 40 91 97 89]\n"
     ]
    }
   ],
   "source": [
    "print(x25[-1])"
   ]
  },
  {
   "cell_type": "code",
   "execution_count": 27,
   "metadata": {},
   "outputs": [
    {
     "name": "stdout",
     "output_type": "stream",
     "text": [
      "15\n"
     ]
    }
   ],
   "source": [
    "print(x25[0,1])"
   ]
  },
  {
   "cell_type": "code",
   "execution_count": 31,
   "metadata": {},
   "outputs": [
    {
     "name": "stdout",
     "output_type": "stream",
     "text": [
      "[82 50 85 21 19]\n",
      "[15  8 61 30 40]\n",
      "[20 25  2 34 89]\n"
     ]
    }
   ],
   "source": [
    "#1st column\n",
    "print(x25[:,0])\n",
    "\n",
    "#2nd column\n",
    "print(x25[:,1])\n",
    "\n",
    "#last column\n",
    "print(x25[:,-1])"
   ]
  },
  {
   "cell_type": "code",
   "execution_count": 32,
   "metadata": {},
   "outputs": [
    {
     "name": "stdout",
     "output_type": "stream",
     "text": [
      "[[82 15]\n",
      " [50  8]\n",
      " [85 61]\n",
      " [21 30]\n",
      " [19 40]]\n"
     ]
    }
   ],
   "source": [
    "#column 0 and 1 indexs\n",
    "print(x25[:,[0,1]])"
   ]
  },
  {
   "cell_type": "code",
   "execution_count": 33,
   "metadata": {},
   "outputs": [
    {
     "name": "stdout",
     "output_type": "stream",
     "text": [
      "[[82 15  7]\n",
      " [50  8 74]\n",
      " [85 61  4]\n",
      " [21 30 65]\n",
      " [19 40 91]]\n",
      "[[82 15  7]\n",
      " [50  8 74]\n",
      " [85 61  4]\n",
      " [21 30 65]\n",
      " [19 40 91]]\n"
     ]
    }
   ],
   "source": [
    "#column 0,1,2\n",
    "print(x25[:,[0,1,2]])\n",
    "#same thing as above\n",
    "print(x25[:,:3])"
   ]
  },
  {
   "cell_type": "code",
   "execution_count": 34,
   "metadata": {},
   "outputs": [
    {
     "data": {
      "text/plain": [
       "array([82, 69, 74, 81, 85, 61, 64, 65, 71, 91, 97, 89])"
      ]
     },
     "execution_count": 34,
     "metadata": {},
     "output_type": "execute_result"
    }
   ],
   "source": [
    "x25[x25 >50]"
   ]
  },
  {
   "cell_type": "code",
   "execution_count": 35,
   "metadata": {},
   "outputs": [
    {
     "data": {
      "text/plain": [
       "array([82, 15,  7, 69, 20, 50,  8, 74, 81, 25, 85, 61,  4, 64,  2, 21, 30,\n",
       "       65, 71, 34, 19, 40, 91, 97, 89,  1,  2,  3,  4,  5])"
      ]
     },
     "execution_count": 35,
     "metadata": {},
     "output_type": "execute_result"
    }
   ],
   "source": [
    "np.append(x25,[1,2,3,4,5])"
   ]
  },
  {
   "cell_type": "code",
   "execution_count": 43,
   "metadata": {},
   "outputs": [
    {
     "data": {
      "text/plain": [
       "array([[82, 15,  7, 69, 20,  1],\n",
       "       [50,  8, 74, 81, 25,  2],\n",
       "       [85, 61,  4, 64,  2,  3],\n",
       "       [21, 30, 65, 71, 34,  4],\n",
       "       [19, 40, 91, 97, 89,  5]])"
      ]
     },
     "execution_count": 43,
     "metadata": {},
     "output_type": "execute_result"
    }
   ],
   "source": [
    "np.append(x25,np.array([[1],[2],[3],[4],[5]]),axis=1)"
   ]
  },
  {
   "cell_type": "code",
   "execution_count": 46,
   "metadata": {},
   "outputs": [],
   "source": [
    "A=np.random.randint(1,100,[2,3])\n",
    "B=np.random.randint(1,100,[3,2])\n"
   ]
  },
  {
   "cell_type": "code",
   "execution_count": 47,
   "metadata": {},
   "outputs": [
    {
     "name": "stdout",
     "output_type": "stream",
     "text": [
      "(2, 3)\n",
      "(3, 2)\n"
     ]
    }
   ],
   "source": [
    "print(A.shape)\n",
    "print(B.shape)"
   ]
  },
  {
   "cell_type": "code",
   "execution_count": 48,
   "metadata": {},
   "outputs": [
    {
     "data": {
      "text/plain": [
       "array([[93, 98],\n",
       "       [81, 77],\n",
       "       [97,  8]])"
      ]
     },
     "execution_count": 48,
     "metadata": {},
     "output_type": "execute_result"
    }
   ],
   "source": [
    "A.T  #same for transpose"
   ]
  },
  {
   "cell_type": "code",
   "execution_count": 51,
   "metadata": {},
   "outputs": [
    {
     "name": "stdout",
     "output_type": "stream",
     "text": [
      "[[93 81 97 40 55 78]\n",
      " [98 77  8 68 81 29]]\n"
     ]
    }
   ],
   "source": [
    "print(np.hstack((A,B.T)))"
   ]
  },
  {
   "cell_type": "code",
   "execution_count": 52,
   "metadata": {},
   "outputs": [
    {
     "name": "stdout",
     "output_type": "stream",
     "text": [
      "[[93 98 40 68]\n",
      " [81 77 55 81]\n",
      " [97  8 78 29]]\n"
     ]
    }
   ],
   "source": [
    "print(np.hstack((A.T,B)))"
   ]
  },
  {
   "cell_type": "code",
   "execution_count": 54,
   "metadata": {},
   "outputs": [
    {
     "name": "stdout",
     "output_type": "stream",
     "text": [
      "[[93 98]\n",
      " [81 77]\n",
      " [97  8]\n",
      " [40 68]\n",
      " [55 81]\n",
      " [78 29]]\n",
      "[[93 81 97]\n",
      " [98 77  8]\n",
      " [40 55 78]\n",
      " [68 81 29]]\n"
     ]
    }
   ],
   "source": [
    "print(np.vstack((A.T,B)))\n",
    "print(np.vstack((A,B.T)))"
   ]
  },
  {
   "cell_type": "code",
   "execution_count": 55,
   "metadata": {},
   "outputs": [],
   "source": []
  },
  {
   "cell_type": "code",
   "execution_count": null,
   "metadata": {},
   "outputs": [],
   "source": []
  }
 ],
 "metadata": {
  "kernelspec": {
   "display_name": "Python 3.9.7 ('base')",
   "language": "python",
   "name": "python3"
  },
  "language_info": {
   "codemirror_mode": {
    "name": "ipython",
    "version": 3
   },
   "file_extension": ".py",
   "mimetype": "text/x-python",
   "name": "python",
   "nbconvert_exporter": "python",
   "pygments_lexer": "ipython3",
   "version": "3.9.7"
  },
  "orig_nbformat": 4,
  "vscode": {
   "interpreter": {
    "hash": "20a9e06a1eee47c4abbed4ec8225ad91d78d9800d202b71b6b0a6e47016c6abd"
   }
  }
 },
 "nbformat": 4,
 "nbformat_minor": 2
}
