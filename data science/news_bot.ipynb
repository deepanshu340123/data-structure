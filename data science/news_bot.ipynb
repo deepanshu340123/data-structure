{
 "cells": [
  {
   "cell_type": "code",
   "execution_count": 1,
   "metadata": {},
   "outputs": [],
   "source": [
    "import requests\n",
    "from bs4 import BeautifulSoup"
   ]
  },
  {
   "cell_type": "code",
   "execution_count": 2,
   "metadata": {},
   "outputs": [],
   "source": [
    "def get_soup(url):\n",
    "    page=requests.get(url)\n",
    "    return BeautifulSoup(page.text)"
   ]
  },
  {
   "cell_type": "code",
   "execution_count": 1,
   "metadata": {},
   "outputs": [
    {
     "ename": "NameError",
     "evalue": "name 'get_soup' is not defined",
     "output_type": "error",
     "traceback": [
      "\u001b[1;31m---------------------------------------------------------------------------\u001b[0m",
      "\u001b[1;31mNameError\u001b[0m                                 Traceback (most recent call last)",
      "\u001b[1;32m~\\AppData\\Local\\Temp/ipykernel_452/736311103.py\u001b[0m in \u001b[0;36m<module>\u001b[1;34m\u001b[0m\n\u001b[1;32m----> 1\u001b[1;33m \u001b[0msoup\u001b[0m\u001b[1;33m=\u001b[0m \u001b[0mget_soup\u001b[0m\u001b[1;33m(\u001b[0m\u001b[1;34m'https://www.ndtv.com/latest'\u001b[0m\u001b[1;33m)\u001b[0m\u001b[1;33m\u001b[0m\u001b[1;33m\u001b[0m\u001b[0m\n\u001b[0m",
      "\u001b[1;31mNameError\u001b[0m: name 'get_soup' is not defined"
     ]
    }
   ],
   "source": [
    "soup= get_soup('https://www.ndtv.com/latest')"
   ]
  },
  {
   "cell_type": "code",
   "execution_count": 6,
   "metadata": {},
   "outputs": [],
   "source": [
    "target= soup.find('div',attrs={'class':'lisingNews'})"
   ]
  },
  {
   "cell_type": "code",
   "execution_count": 8,
   "metadata": {},
   "outputs": [
    {
     "name": "stdout",
     "output_type": "stream",
     "text": [
      "17\n"
     ]
    }
   ],
   "source": [
    "newslist= target.find_all('div',attrs={'class':'news_Itm'})\n",
    "print(len(newslist))"
   ]
  },
  {
   "cell_type": "code",
   "execution_count": 14,
   "metadata": {},
   "outputs": [],
   "source": [
    "data=[]\n",
    "for news in newslist:\n",
    "    title=news.find('h2',attrs={'class':'newsHdng'})\n",
    "    details=news.find('span',attrs={'class':'posted-by'})\n",
    "    content=news.find('p',attrs={'class':'newsCont'})\n",
    "    if title and details and content:\n",
    "        # print('--> HEADLINES'','--'*40)\n",
    "        #print(title.text)\n",
    "        #print(details.text)\n",
    "        # print(content.text)\n",
    "\n",
    "        data.append({\n",
    "            'title':title.text.strip(),\n",
    "            'details':details.text.strip(),\n",
    "            'content':content.text.strip()\n",
    "\n",
    "       })"
   ]
  },
  {
   "cell_type": "code",
   "execution_count": 15,
   "metadata": {},
   "outputs": [
    {
     "data": {
      "text/plain": [
       "[{'title': 'Queen Elizabeth Updates: Charles To Be Proclaimed King Today',\n",
       "  'details': 'Edited by NDTV News Desk  | Saturday September 10, 2022',\n",
       "  'content': 'Britain\\'s Charles III will officially be proclaimed king in a ceremony on Saturday, a day after he vowed in his first speech to mourning subjects that he would emulate his \"darling mama\", Queen Elizabeth II.'},\n",
       " {'title': 'Australia vs New Zealand: Marcus Stoinis, David Warner Out Of 3rd ODI',\n",
       "  'details': 'Agence France-Presse   | Saturday September 10, 2022',\n",
       "  'content': \"Injured all-rounder Marcus Stoinis was Saturday ruled out of Australia's final one-day international against New Zealand, while David Warner was released from the squad to rest.\"},\n",
       " {'title': '\"Will Be Five Kilos Less\": On Virat Kohli\\'s Ton, Ex-India Coach Ravi Shastri\\'s Out Of The Box Take',\n",
       "  'details': 'NDTV Sports Desk   | Saturday September 10, 2022',\n",
       "  'content': \"After Virat Kohli's ton on Thursday, former India coach Ravi Shastri was asked about Kohli reaching the triple-figure mark after 1020 days, and he gave his insight on it.\"},\n",
       " {'title': '\"Maharani Elizabeth ko...\": British Envoy Mourns Queen\\'s Death In Hindi',\n",
       "  'details': 'Edited by Supriti David  | Saturday September 10, 2022, New Delhi',\n",
       "  'content': 'British High Commissioner to India Alex Ellis mourned the death of Queen Elizabeth on Friday and as he spoke of her \"life dedicated to service\", he decided to begin doing so in Hindi.'},\n",
       " {'title': 'How Shilpa Shetty Wished Birthday To Husband Raj Kundra',\n",
       "  'details': 'Written by Jyothi Jha  | Saturday September 10, 2022, New Delhi',\n",
       "  'content': '\"I\\'m thankful that you\\'re my bestest friend, the father of my children, my love, and my strength,\" wrote Shilpa Shetty'},\n",
       " {'title': \"Assam Chief Minister's Rahul Gandhi Cartoon Gets A Counter From 2010\",\n",
       "  'details': 'Reported by Sunil Prabhu, Edited by Shatabdi Chowdhury  | Saturday September 10, 2022, New Delhi',\n",
       "  'content': 'The Congress has dug up a 12-year-old tweet of Assam Chief Minister Himanta Biswa Sarma praising Rahul Gandhi, hours after he posted a parody video mocking him.'},\n",
       " {'title': 'JEECUP 2022 Counselling: Round 1 Seat Allotment Result Today; Details Here',\n",
       "  'details': 'Edited by Arnab Mitra  | Saturday September 10, 2022',\n",
       "  'content': 'JEECUP 2022 Counselling: The candidates can select the freeze/float option and appear for document verification from September 11 to 13. Download round 1 seat allotment list at jeecup.nic.in'},\n",
       " {'title': 'Queen Elizabeth To Remain On Canadian Currency \"For Years To Come\"',\n",
       "  'details': 'By Stephen Wicary, Bloomberg   | Saturday September 10, 2022, Ottawa',\n",
       "  'content': 'Canada, a former British colony, has a new head of state. But the face of Queen Elizabeth II will continue to appear on its currency.'},\n",
       " {'title': 'Deepening Tokyo Olympics Bribery Scandal Casts Shadow Over 2030 Bid',\n",
       "  'details': 'Agence France-Presse   | Saturday September 10, 2022',\n",
       "  'content': \"A bribery scandal engulfing last summer's pandemic-delayed Tokyo Games has thrown a dark cloud over Sapporo's 2030 bid and raised fresh questions in Japan about hosting the Olympics again.\"},\n",
       " {'title': 'India Logs 5,554 New COVID-19 Cases Today, Active Cases Decline To 48,850',\n",
       "  'details': 'Press Trust of India   | Saturday September 10, 2022, New Delhi',\n",
       "  'content': 'India logged 5,554 new coronavirus infections which raised the tally to 4,44,90,283 while the active cases further declined to 48,850, the Union Health Ministry said on Saturday.'},\n",
       " {'title': 'Charles To Be Proclaimed King Today After Vowing \"Lifelong Service\"',\n",
       "  'details': 'Agence France-Presse   | Saturday September 10, 2022',\n",
       "  'content': 'Britain\\'s Charles III will officially be proclaimed king in a ceremony on Saturday, a day after he vowed in his first speech to mourning subjects that he would emulate his \"darling mama\", Queen Elizabeth II.'},\n",
       " {'title': '\"T20 Cricket Needs To Explore...\": Ex-India Batter On Toss Playing Crucial Role in Asia Cup',\n",
       "  'details': 'NDTV Sports Desk   | Saturday September 10, 2022',\n",
       "  'content': 'Sanjay Manjrekar has now highlighted how toss played a big role in the Asia Cup. He also highlighted that India lost tosses in their three Super 4 games while Afghanistan lost two.'},\n",
       " {'title': 'World Suicide Prevention Day 2022: Theme, Significance, How To Identify If Someone Is Suicidal & What Can You Do',\n",
       "  'details': 'Manya Singh   | Saturday September 10, 2022',\n",
       "  'content': 'World Suicide Prevention Day 2022: WSPD is celebrated to help raise awareness towards suicide cases and help lower the rates of suicide.'},\n",
       " {'title': 'CUET UG 2022 Answer Key: Last Date To Raise Objections Today At Cuet.samarth.ac.in',\n",
       "  'details': 'Edited by Arnab Mitra  | Saturday September 10, 2022',\n",
       "  'content': 'CUET UG 2022 Answer Key: The CUET UG 2022 answer key objection window for all the six phases is available online till 11:50 PM today. Download answer key at cuet.samarth.ac.in'},\n",
       " {'title': '\"King Is Back, They\\'re Saying. But...\": Chennai Super Kings\\' Tweet On Virat Kohli\\'s Ton Goes Viral',\n",
       "  'details': 'NDTV Sports Desk   | Saturday September 10, 2022',\n",
       "  'content': 'Chennai Super Kings also paid a special tribute to Kohli after his 122* off 61 balls against Afghanistan with a twitter thread.'}]"
      ]
     },
     "execution_count": 15,
     "metadata": {},
     "output_type": "execute_result"
    }
   ],
   "source": [
    "data"
   ]
  },
  {
   "cell_type": "code",
   "execution_count": 16,
   "metadata": {},
   "outputs": [],
   "source": [
    "import pandas as pd"
   ]
  },
  {
   "cell_type": "code",
   "execution_count": 17,
   "metadata": {},
   "outputs": [],
   "source": [
    "pd.DataFrame(data).to_csv('headlines.csv')"
   ]
  },
  {
   "cell_type": "code",
   "execution_count": null,
   "metadata": {},
   "outputs": [],
   "source": []
  }
 ],
 "metadata": {
  "kernelspec": {
   "display_name": "Python 3.9.7 ('base')",
   "language": "python",
   "name": "python3"
  },
  "language_info": {
   "codemirror_mode": {
    "name": "ipython",
    "version": 3
   },
   "file_extension": ".py",
   "mimetype": "text/x-python",
   "name": "python",
   "nbconvert_exporter": "python",
   "pygments_lexer": "ipython3",
   "version": "3.9.7"
  },
  "orig_nbformat": 4,
  "vscode": {
   "interpreter": {
    "hash": "20a9e06a1eee47c4abbed4ec8225ad91d78d9800d202b71b6b0a6e47016c6abd"
   }
  }
 },
 "nbformat": 4,
 "nbformat_minor": 2
}
