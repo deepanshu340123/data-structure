{
 "cells": [
  {
   "cell_type": "code",
   "execution_count": 1,
   "metadata": {},
   "outputs": [],
   "source": [
    "import requests\n",
    "from bs4 import BeautifulSoup"
   ]
  },
  {
   "cell_type": "code",
   "execution_count": 2,
   "metadata": {},
   "outputs": [],
   "source": [
    "\n",
    "\n",
    "\n",
    "def get_soup(url):\n",
    "    page=requests.get(url)\n",
    "    return BeautifulSoup(page.text)"
   ]
  },
  {
   "cell_type": "code",
   "execution_count": 3,
   "metadata": {},
   "outputs": [],
   "source": [
    "soup=get_soup('https://www.python.org/jobs/')"
   ]
  },
  {
   "cell_type": "code",
   "execution_count": 4,
   "metadata": {},
   "outputs": [],
   "source": [
    "target=soup.find('div',attrs={'class':'row'})"
   ]
  },
  {
   "cell_type": "code",
   "execution_count": 5,
   "metadata": {},
   "outputs": [
    {
     "name": "stdout",
     "output_type": "stream",
     "text": [
      "33\n"
     ]
    }
   ],
   "source": [
    "joblist = target.find_all('li')\n",
    "print(len(joblist))"
   ]
  },
  {
   "cell_type": "code",
   "execution_count": 6,
   "metadata": {},
   "outputs": [],
   "source": [
    "data=[]\n",
    "for job in joblist:\n",
    "    title=job.find('h2',attrs={'class':'listing-company'})\n",
    "    type=job.find('span',attrs={'class':'listing-job-type'})\n",
    "    posted=job.find('span',attrs={'class':'listing-posted'})\n",
    "    category=job.find('span',attrs={'class':'listing-company-category'})\n",
    "    if title and type and posted  and category:\n",
    "        # print('--> JOBS','--'*40)\n",
    "        #print(title.text)\n",
    "        #print(type.text)\n",
    "        #print(posted.text)\n",
    "        #print(category.text)\n",
    "        data.append({\n",
    "            'title':title.text.strip(),\n",
    "            'type':type.text.strip(),\n",
    "            'posted':posted.text.strip(),\n",
    "            'category':category.text.strip()\n",
    "\n",
    "       })\n",
    "        "
   ]
  },
  {
   "cell_type": "code",
   "execution_count": 7,
   "metadata": {},
   "outputs": [
    {
     "data": {
      "text/plain": [
       "[{'title': 'New\\nSenior Python Engineer, remote, Europe/US (x/f/m)\\n\\t\\t    Transporeon\\n                \\nRemote, US, Germany, Poland, USA, France, Italy, Spain, Netherlands, UK, Austria, Denmark, Sweden,  ...',\n",
       "  'type': 'Back end, Cloud, Database, Lead, Systems, Web',\n",
       "  'posted': 'Posted: 16 September 2022',\n",
       "  'category': 'Developer / Engineer'},\n",
       " {'title': 'New\\nSenior Backend Software Engineer (applied Machine Learning) (f/m/d)\\n\\t\\t    ONIQ GmbH\\n                \\nCologne/Hybrid/Remote, NRW, Germany',\n",
       "  'type': 'Back end, Cloud, Database, Machine Learning, Testing',\n",
       "  'posted': 'Posted: 16 September 2022',\n",
       "  'category': 'Developer / Engineer'},\n",
       " {'title': 'New\\nSenior Backend Software Engineer (f/m/d)\\n\\t\\t    ONIQ GmbH\\n                \\nCologne/Hybrid/Remote, NRW, Germany',\n",
       "  'type': 'Back end, Cloud, Database, Machine Learning, Testing, Web',\n",
       "  'posted': 'Posted: 16 September 2022',\n",
       "  'category': 'Developer / Engineer'},\n",
       " {'title': 'New\\nBackend Software Engineer (f/m/d)\\n\\t\\t    ONIQ GmbH\\n                \\nCologne/Hybrid/Remote, NRW, Germany',\n",
       "  'type': 'Back end, Cloud, Database, Machine Learning, Testing, Web',\n",
       "  'posted': 'Posted: 16 September 2022',\n",
       "  'category': 'Developer / Engineer'},\n",
       " {'title': 'New\\nRemote Python Developer\\n\\t\\t    Scopic\\n                \\nMexico, USA',\n",
       "  'type': 'Back end, Web',\n",
       "  'posted': 'Posted: 16 September 2022',\n",
       "  'category': 'Developer / Engineer'},\n",
       " {'title': 'New\\nSenior Software Engineer/Tech Lead\\n\\t\\t    ClinicSense\\n                \\nToronto, Ontario, Canada',\n",
       "  'type': 'Back end, Front end, Python, React, MySQL, AWS, Django',\n",
       "  'posted': 'Posted: 15 September 2022',\n",
       "  'category': 'Developer / Engineer'},\n",
       " {'title': 'New\\nDevOps Engineer\\n\\t\\t    The Texas Tribune\\n                \\nAustin, Texas, USA',\n",
       "  'type': 'Back end, Cloud, Database, Systems, Web',\n",
       "  'posted': 'Posted: 15 September 2022',\n",
       "  'category': 'Developer / Engineer'},\n",
       " {'title': 'New\\nBackend engineer – data ingest (remote, Python)\\n\\t\\t    Gridium\\n                \\nany in United States (remote), CA, United States',\n",
       "  'type': 'Back end, Cloud, Database, Web, Postgres, Elasticsearch/OpenSearch, AWS, Selenium',\n",
       "  'posted': 'Posted: 15 September 2022',\n",
       "  'category': 'Developer / Engineer'},\n",
       " {'title': 'New\\nDjango Developer\\n\\t\\t    Hut 42 Services Ltd\\n                \\nRemote, UK',\n",
       "  'type': 'Back end, Django',\n",
       "  'posted': 'Posted: 15 September 2022',\n",
       "  'category': 'Developer / Engineer'},\n",
       " {'title': 'New\\nMachine Learning Engineer\\n\\t\\t    Kintsugi\\n                \\nRemote, USA',\n",
       "  'type': 'Machine Learning',\n",
       "  'posted': 'Posted: 15 September 2022',\n",
       "  'category': 'Developer / Engineer'},\n",
       " {'title': 'New\\nSenior Software Engineer (Cyber Detection)\\n\\t\\t    Federal Reserve Bank of Richmond\\n                \\nRemote, U.S.',\n",
       "  'type': 'Cloud, REST APIs, Terraform, Ansible, DevSecOps, Lambda, API Gateway, EC2, ECS, DynamoDB',\n",
       "  'posted': 'Posted: 14 September 2022',\n",
       "  'category': 'Developer / Engineer'},\n",
       " {'title': 'New\\nSenior Backend Engineer\\n\\t\\t    Sendwave\\n                \\nRemote, Remote, Belgium, Canada, Costa Rica, France, Germany, Kenya, Poland, Senegal, UK, US',\n",
       "  'type': 'Back end, Django',\n",
       "  'posted': 'Posted: 14 September 2022',\n",
       "  'category': 'Developer / Engineer'},\n",
       " {'title': 'New\\nSenior Python Developer (ONLY FOR AFRICAN DEVS, PREFFERED EGYPTIANS)\\n\\t\\t    HireTrainRetain.com\\n                \\nRemote work, Egypt & Continental Africa',\n",
       "  'type': 'Back end, Big Data, Cloud, Database, Front end, Integration, Lead, Machine Learning, Management, Numeric processing, Operations, Systems, Testing, Text Processing, Web',\n",
       "  'posted': 'Posted: 14 September 2022',\n",
       "  'category': 'Developer / Engineer'},\n",
       " {'title': 'New\\nRemote Python Developer\\n\\t\\t    Scopic\\n                \\nSpain Barcelona, Spain',\n",
       "  'type': 'Front end',\n",
       "  'posted': 'Posted: 13 September 2022',\n",
       "  'category': 'Other'},\n",
       " {'title': 'New\\nDeveloper Advocate\\n\\t\\t    Codiga\\n                \\nDenver, CO, USA',\n",
       "  'type': 'Evangelism, Operations',\n",
       "  'posted': 'Posted: 12 September 2022',\n",
       "  'category': 'Developer / Engineer'},\n",
       " {'title': 'New\\nSenior Python Developer\\n\\t\\t    MSD\\n                \\nPrague, Czechia',\n",
       "  'type': 'Back end, Cloud, Integration, Lead, Operations, Systems, SQL, Bash, DevOps and more',\n",
       "  'posted': 'Posted: 09 September 2022',\n",
       "  'category': 'Developer / Engineer'},\n",
       " {'title': 'New\\nStaff Python Backend Engineer\\n\\t\\t    Reef Technologies\\n                \\nWarsaw (fully remote), Poland',\n",
       "  'type': 'Back end',\n",
       "  'posted': 'Posted: 09 September 2022',\n",
       "  'category': 'Developer / Engineer'},\n",
       " {'title': 'New\\nSoftware Engineer\\n\\t\\t    Utah State University\\n                \\nLogan, Utah, USA',\n",
       "  'type': 'Back end, Cloud, Database, Integration, Web',\n",
       "  'posted': 'Posted: 08 September 2022',\n",
       "  'category': 'Developer / Engineer'},\n",
       " {'title': 'New\\nLead SRE Engineer\\n\\t\\t    Livepeer\\n                \\nBrooklyn, US',\n",
       "  'type': 'Lead, Systems, PowerShell, Python, Golang',\n",
       "  'posted': 'Posted: 07 September 2022',\n",
       "  'category': 'Developer / Engineer'},\n",
       " {'title': 'New\\nLead Software Engineer\\n\\t\\t    GlobalLogic UK&I\\n                \\nLondon, UK',\n",
       "  'type': 'Cloud, Python, AWS, API',\n",
       "  'posted': 'Posted: 07 September 2022',\n",
       "  'category': 'Developer / Engineer'},\n",
       " {'title': 'New\\nSenior Python Developer (Remote)\\n\\t\\t    nineDots\\n                \\nDublin, Ireland',\n",
       "  'type': 'Back end, Big Data, Cloud, Systems, Python, AWS, Networking, Golang',\n",
       "  'posted': 'Posted: 06 September 2022',\n",
       "  'category': 'Developer / Engineer'},\n",
       " {'title': 'New\\nMachine Learning Engineer\\n\\t\\t    Shift5\\n                \\nremote, USA',\n",
       "  'type': 'Big Data, Machine Learning',\n",
       "  'posted': 'Posted: 05 September 2022',\n",
       "  'category': 'Researcher / Scientist'},\n",
       " {'title': 'New\\nAI Consultant (f/m/d)\\n\\t\\t    1&1 AG\\n                \\nKarlsruhe, Germany',\n",
       "  'type': 'Machine Learning',\n",
       "  'posted': 'Posted: 05 September 2022',\n",
       "  'category': 'Developer / Engineer'},\n",
       " {'title': 'New\\nCloud Automation Engineer (f/m/d)\\n\\t\\t    IONOS SE\\n                \\nBerlin, Germany',\n",
       "  'type': 'Cloud, Systems',\n",
       "  'posted': 'Posted: 05 September 2022',\n",
       "  'category': 'Developer / Engineer'},\n",
       " {'title': 'New\\nBackend Software Engineer\\n\\t\\t    Kintsugi\\n                \\nRemote, USA',\n",
       "  'type': 'Back end, PostgreSQL, Python, FastAPI, Flask, PyTorch, GitLab',\n",
       "  'posted': 'Posted: 02 September 2022',\n",
       "  'category': 'Developer / Engineer'}]"
      ]
     },
     "execution_count": 7,
     "metadata": {},
     "output_type": "execute_result"
    }
   ],
   "source": [
    "data"
   ]
  },
  {
   "cell_type": "code",
   "execution_count": 8,
   "metadata": {},
   "outputs": [],
   "source": [
    "import pandas as pd"
   ]
  },
  {
   "cell_type": "code",
   "execution_count": null,
   "metadata": {},
   "outputs": [],
   "source": [
    "df=pd.DataFrame(data).to_csv('joblist.csv')"
   ]
  },
  {
   "cell_type": "code",
   "execution_count": null,
   "metadata": {},
   "outputs": [],
   "source": []
  }
 ],
 "metadata": {
  "kernelspec": {
   "display_name": "Python 3.9.7 ('base')",
   "language": "python",
   "name": "python3"
  },
  "language_info": {
   "codemirror_mode": {
    "name": "ipython",
    "version": 3
   },
   "file_extension": ".py",
   "mimetype": "text/x-python",
   "name": "python",
   "nbconvert_exporter": "python",
   "pygments_lexer": "ipython3",
   "version": "3.9.7"
  },
  "orig_nbformat": 4,
  "vscode": {
   "interpreter": {
    "hash": "20a9e06a1eee47c4abbed4ec8225ad91d78d9800d202b71b6b0a6e47016c6abd"
   }
  }
 },
 "nbformat": 4,
 "nbformat_minor": 2
}
